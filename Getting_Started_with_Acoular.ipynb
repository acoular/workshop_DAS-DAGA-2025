{
 "cells": [
  {
   "cell_type": "code",
   "execution_count": 1,
   "metadata": {
    "scrolled": true
   },
   "outputs": [
    {
     "data": {
      "text/html": [
       "<link href='http://fonts.googleapis.com/css?family=Roboto+Slab' rel='stylesheet' type='text/css'>\n",
       "<link href='http://fonts.googleapis.com/css?family=Roboto+Condensed' rel='stylesheet' type='text/css'>\n",
       "<link href='http://fonts.googleapis.com/css?family=Roboto:100,300,400,500,700,800,900,100italic,300italic,400italic,500italic,700italic,800italic,900italic' rel='stylesheet' type='text/css'>\n",
       "<link href='http://fonts.googleapis.com/css?family=Source+Code+Pro:300,400' rel='stylesheet' type='text/css'>\n",
       "<style>\n",
       "   @font-face {\n",
       "        font-family: \"Computer Modern\";\n",
       "        src: url('http://mirrors.ctan.org/fonts/cm-unicode/fonts/otf/cmunss.otf');\n",
       "    }\n",
       "    /* custom code settings */\n",
       "    .cm-keyword {\n",
       "        color: #A81D1E !important;\n",
       "        font-weight: bold;\n",
       "    }\n",
       "    .cm-string {\n",
       "        color: #A81D1E !important;\n",
       "        font-style: italic;       \n",
       "    }\n",
       "    .cm-comment {\n",
       "        color: #434343 !important;\n",
       "        font-style: italic;       \n",
       "    }\n",
       "    .cm-variable, .cm-number {\n",
       "        color: #0C3762 !important;\n",
       "    }\n",
       "    .cm-def {\n",
       "        color: #0C3762 !important;\n",
       "        font-weight: bold;\n",
       "    }\n",
       "    .cm-builtin, .cm-operator {\n",
       "        color: #A81D1E !important;\n",
       "        font-weight: bold;\n",
       "    }\n",
       "    .rendered_html a {\n",
       "        color: #0C3762 !important; /* Change this to your preferred color */\n",
       "        font-weight: bold;\n",
       "        text-decoration: underline; /* Optional: keeps underline */\n",
       "    }\n",
       "    .rendered_html a:hover {\n",
       "        font-weight: bold;\n",
       "        color: #0C3762 !important; /* Change color when hovering over links */\n",
       "    }  \n",
       "    div.cell{\n",
       "        width:90%;\n",
       "        margin-left:auto;\n",
       "        margin-right:auto;\n",
       "    }\n",
       "    div.cell {\n",
       "        width: 90%;\n",
       "        margin-left: auto;\n",
       "        margin-right: auto;\n",
       "    }\n",
       "\n",
       "    div.cell + div.cell.code_cell {\n",
       "        margin-bottom: 50px; /* add some space between cells */\n",
       "    }\n",
       "    h1 {\n",
       "        font-family: 'Roboto Condensed', sans-serif;\n",
       "        color: #0C3762;\n",
       "    }\n",
       "    h2 {\n",
       "        font-family: 'Roboto', sans-serif;\n",
       "        font-weight: 500 !important;\n",
       "        font-size: 1.5em !important;\n",
       "        color: #0C3762;\n",
       "    }\n",
       "    h3{\n",
       "\t\tfont-family: 'Roboto', sans-serif;\n",
       "        margin-top:12px;\n",
       "        margin-bottom: 3px;\n",
       "        color: #0C3762;\n",
       "       }\n",
       "\th4{\n",
       "\t\tfont-family: 'Roboto', sans-serif;\n",
       "        color: #0C3762;\n",
       "       }\n",
       "    h5 {\n",
       "        font-family: 'Roboto Condensed', sans-serif;\n",
       "        color: #0C3762;\n",
       "    }\t   \n",
       "    div.text_cell_render{\n",
       "        font-family: 'Roboto',Computer Modern, \"Helvetica Neue\", Arial, Helvetica, Geneva, sans-serif;\n",
       "        line-height: 135%;\n",
       "        font-size: 110%;\n",
       "        width:100%;\n",
       "    }\n",
       "    div.cell.selected:before, div.cell.selected.jupyter-soft-selected:before {\n",
       "        background: #0C3762;\n",
       "        width: 20px;\n",
       "    }\n",
       "    /* Add logo next to the bar */\n",
       "    div.cell.selected:after, \n",
       "    div.cell.selected.jupyter-soft-selected:after {\n",
       "        content: '';\n",
       "        position: absolute;\n",
       "        left: 20px; /* Position next to the bar (20px = bar width) */\n",
       "        top: 0;\n",
       "        bottom: 0;\n",
       "        width: 40px; /* Logo container width */\n",
       "        background: url('img/Acoular_logo.png') no-repeat center center / contain;\n",
       "        z-index: 999;\n",
       "    }    \n",
       "    div.input_prompt {\n",
       "        color: #0C3762;\n",
       "    }\n",
       "\n",
       "    div.output_prompt {\n",
       "        color: #A81D1E;\n",
       "    }\n",
       "    div.input_area {\n",
       "        background-color: #f1f1f1 !important; \n",
       "    }    \n",
       "    div.prompt {\n",
       "        min-width: 18ex;\n",
       "    }\n",
       "    .text_cell_render h1, .text_cell_render h2 {\n",
       "        font-weight: 200;\n",
       "        font-size: 50pt;\n",
       "\t\tline-height: 100%;\n",
       "        color:#0C3762;\n",
       "        margin-bottom: 0.5em;\n",
       "        margin-top: 0.5em;\n",
       "        display: block;\n",
       "    }\t\n",
       "    .text_cell_render h5 {\n",
       "        font-weight: 300;\n",
       "        font-size: 16pt;\n",
       "        color: #0C3762;\n",
       "        font-style: italic;\n",
       "        margin-bottom: .5em;\n",
       "        margin-top: 0.5em;\n",
       "        display: block;\n",
       "    }\n",
       "    .warning{\n",
       "        color: rgb( 240, 20, 20 );\n",
       "    }\n",
       "\n",
       "</style>\n",
       "<script>\n",
       "    MathJax.Hub.Config({\n",
       "                TeX: {\n",
       "                    extensions: [\"AMSmath.js\"],\n",
       "                    equationNumbers: { autoNumber: \"AMS\" }\n",
       "                },\n",
       "                tex2jax: {\n",
       "                    inlineMath: [ ['$','$'], [\"\\\\(\",\"\\\\)\"] ],\n",
       "                    displayMath: [ ['$$','$$'], [\"\\\\[\",\"\\\\]\"] ]\n",
       "                },\n",
       "                displayAlign: 'center', // Change this to 'center' to center equations.\n",
       "                \"HTML-CSS\": {\n",
       "                    styles: {'.MathJax_Display': {\"margin\": 4}}\n",
       "                }\n",
       "        });\n",
       "</script>"
      ],
      "text/plain": [
       "<IPython.core.display.HTML object>"
      ]
     },
     "execution_count": 1,
     "metadata": {},
     "output_type": "execute_result"
    }
   ],
   "source": [
    "from IPython.core.display import HTML\n",
    "def css_styling():\n",
    "    styles = open(\"./custom.css\", \"r\").read()\n",
    "    return HTML(styles)\n",
    "css_styling()"
   ]
  },
  {
   "cell_type": "markdown",
   "metadata": {},
   "source": [
    "<img src=\"img/DAGA_logo.png\" alt=\"DAGA Logo\" style=\"width:160px; position:absolute; top:20px; right:0px;\">\n",
    "<img src=\"img/TU-lang.png\" alt=\"TU Logo\" style=\"width:230px; position:absolute; top:0px; right:180px;\">\n",
    "\n",
    "<h1 style=\"margin-top: 180px; margin-bottom: 50px; color: #A81D1E;\">Getting Started with Acoular</h1>\n",
    "<h3 style=\"margin-top: 50px; margin-bottom: 100px; color: #434343;\">Art J. R. Pelling, Mikolaj Czuchaj, Gert Herold, Adam Kujawski, Oliver Lylloff, Ennes Sarradj</h2>\n"
   ]
  },
  {
   "cell_type": "markdown",
   "metadata": {},
   "source": [
    "## What we will do\n",
    "\n",
    "- import a microphone array geometry\n",
    "- synthesize a multi-source scenario\n",
    "- apply basic beamforming\n",
    "- plot the results"
   ]
  },
  {
   "cell_type": "code",
   "execution_count": 2,
   "metadata": {
    "scrolled": true
   },
   "outputs": [],
   "source": [
    "# First things first\n",
    "import acoular"
   ]
  },
  {
   "cell_type": "markdown",
   "metadata": {},
   "source": [
    "### Load microphone geometry"
   ]
  },
  {
   "cell_type": "code",
   "execution_count": 3,
   "metadata": {},
   "outputs": [],
   "source": [
    "acoular.MicGeom?"
   ]
  },
  {
   "cell_type": "code",
   "execution_count": 4,
   "metadata": {},
   "outputs": [
    {
     "name": "stdout",
     "output_type": "stream",
     "text": [
      "<?xml version=\"1.0\" encoding=\"utf-8\"?>\t\t\t\t\t\t\t\t\t\n",
      "\n",
      "<MicArray name=\"array_64\">\t\t\t\t\t\t\t\t\t\n",
      "\n",
      "\t<pos Name=\"Point \t1\t\" x=\"\t0.152\t\" y=\"\t0.1141\t\" z=\"\t0\t\"/>\n",
      "\n",
      "\t<pos Name=\"Point \t2\t\" x=\"\t0.134\t\" y=\"\t0.1021\t\" z=\"\t0\t\"/>\n",
      "\n",
      "\t<pos Name=\"Point \t3\t\" x=\"\t0.1043\t\" y=\"\t0.1036\t\" z=\"\t0\t\"/>\n",
      "\n"
     ]
    }
   ],
   "source": [
    "from pathlib import Path\n",
    "\n",
    "mgpath = Path(acoular.__file__).parent / 'xml' / 'array_64.xml'\n",
    "with open(mgpath, 'r') as f:\n",
    "    for _ in range(5):\n",
    "        print(f.readline())"
   ]
  },
  {
   "cell_type": "code",
   "execution_count": 49,
   "metadata": {},
   "outputs": [
    {
     "data": {
      "text/plain": [
       "array([[0.152 , 0.134 , 0.1043],\n",
       "       [0.1141, 0.1021, 0.1036],\n",
       "       [0.    , 0.    , 0.    ]])"
      ]
     },
     "execution_count": 49,
     "metadata": {},
     "output_type": "execute_result"
    }
   ],
   "source": [
    "# check coordinates\n",
    "mg = acoular.MicGeom( file = mgpath )\n",
    "mg.pos[:,:3]"
   ]
  },
  {
   "cell_type": "code",
   "execution_count": 22,
   "metadata": {},
   "outputs": [
    {
     "data": {
      "image/png": "[encoded data removed]",
      "text/plain": [
       "<Figure size 640x480 with 1 Axes>"
      ]
     },
     "metadata": {},
     "output_type": "display_data"
    }
   ],
   "source": [
    "# visualize the microphone array\n",
    "import matplotlib.pylab as plt\n",
    "\n",
    "plt.plot( mg.pos[0], mg.pos[1], 'o' )\n",
    "plt.grid()\n",
    "plt.gca().set_aspect( 'equal', adjustable='box' )\n",
    "plt.xlim((-0.2,0.2))\n",
    "plt.ylim((-0.2,0.2));\n",
    "# seven intertwined spirals"
   ]
  },
  {
   "cell_type": "markdown",
   "metadata": {},
   "source": [
    "### Create a source case\n",
    "- three point sources\n",
    "- uncorrelated white noise"
   ]
  },
  {
   "cell_type": "code",
   "execution_count": 7,
   "metadata": {},
   "outputs": [],
   "source": [
    "sfreq = 51200\n",
    "duration = 1\n",
    "num_samples = duration * sfreq\n",
    "\n",
    "n1 = acoular.WNoiseGenerator(sample_freq=sfreq, num_samples=num_samples, seed=1)\n",
    "n2 = acoular.WNoiseGenerator(sample_freq=sfreq, num_samples=num_samples, seed=2, rms=0.7)\n",
    "n3 = acoular.WNoiseGenerator(sample_freq=sfreq, num_samples=num_samples, seed=3, rms=0.5)\n",
    "p1 = acoular.PointSource(signal=n1, mics=mg, loc=(-0.1, -0.1, -0.3))\n",
    "p2 = acoular.PointSource(signal=n2, mics=mg, loc=(0.15, 0, -0.3))\n",
    "p3 = acoular.PointSource(signal=n3, mics=mg, loc=(0, 0.1, -0.3))\n",
    "\n",
    "ts = acoular.Mixer(source=p1, sources=[p2, p3])"
   ]
  },
  {
   "cell_type": "code",
   "execution_count": 8,
   "metadata": {},
   "outputs": [
    {
     "data": {
      "text/plain": [
       "True"
      ]
     },
     "execution_count": 8,
     "metadata": {},
     "output_type": "execute_result"
    }
   ],
   "source": [
    "isinstance(ts, acoular.TimeOut)"
   ]
  },
  {
   "cell_type": "markdown",
   "metadata": {},
   "source": [
    "We can use this object now to answer some questions about the data:\n",
    "* How many channels,\n",
    "* and how many samples do we have? \n",
    "* What is the sampling frequency? "
   ]
  },
  {
   "cell_type": "code",
   "execution_count": 9,
   "metadata": {
    "scrolled": true
   },
   "outputs": [
    {
     "name": "stdout",
     "output_type": "stream",
     "text": [
      "64 51200 51200.0\n"
     ]
    }
   ],
   "source": [
    "print( ts.num_channels, ts.num_samples, ts.sample_freq )"
   ]
  },
  {
   "cell_type": "markdown",
   "metadata": {},
   "source": [
    "### Frequency Domain Processing\n",
    "- signal processing can take place in the time domain or in the frequency domain\n",
    "- need to transform the time domain data\n",
    "- set blocksize and window"
   ]
  },
  {
   "cell_type": "code",
   "execution_count": 25,
   "metadata": {},
   "outputs": [
    {
     "data": {
      "text/plain": [
       "array([    0.,   400.,   800.,  1200.,  1600.,  2000.,  2400.,  2800.,\n",
       "        3200.,  3600.,  4000.,  4400.,  4800.,  5200.,  5600.,  6000.,\n",
       "        6400.,  6800.,  7200.,  7600.,  8000.,  8400.,  8800.,  9200.,\n",
       "        9600., 10000., 10400., 10800., 11200., 11600., 12000., 12400.,\n",
       "       12800., 13200., 13600., 14000., 14400., 14800., 15200., 15600.,\n",
       "       16000., 16400., 16800., 17200., 17600., 18000., 18400., 18800.,\n",
       "       19200., 19600., 20000., 20400., 20800., 21200., 21600., 22000.,\n",
       "       22400., 22800., 23200., 23600., 24000., 24400., 24800., 25200.,\n",
       "       25600.])"
      ]
     },
     "execution_count": 25,
     "metadata": {},
     "output_type": "execute_result"
    }
   ],
   "source": [
    "ps = acoular.PowerSpectra( source=ts, block_size=128, window=\"Hanning\" )\n",
    "ps.fftfreq()"
   ]
  },
  {
   "cell_type": "markdown",
   "metadata": {},
   "source": [
    "### Cross Spectral Matrix (CSM)\n",
    "- pairwise cross spectra of all channels\n",
    "- computed using Welch's method\n",
    "- _lazy evaluation_ => no computations so far!"
   ]
  },
  {
   "cell_type": "code",
   "execution_count": 50,
   "metadata": {
    "scrolled": false
   },
   "outputs": [
    {
     "data": {
      "text/plain": [
       "(np.int64(65), np.int64(64), np.int64(64))"
      ]
     },
     "execution_count": 50,
     "metadata": {},
     "output_type": "execute_result"
    }
   ],
   "source": [
    "ps.csm.shape"
   ]
  },
  {
   "cell_type": "markdown",
   "metadata": {},
   "source": [
    "### Set the Focus Grid"
   ]
  },
  {
   "cell_type": "code",
   "execution_count": 51,
   "metadata": {},
   "outputs": [],
   "source": [
    "acoular.RectGrid?"
   ]
  },
  {
   "cell_type": "code",
   "execution_count": 37,
   "metadata": {},
   "outputs": [
    {
     "data": {
      "text/plain": [
       "array([[-0.2  , -0.2  , -0.2  , ...,  0.2  ,  0.2  ,  0.2  ],\n",
       "       [-0.2  , -0.199, -0.198, ...,  0.198,  0.199,  0.2  ],\n",
       "       [ 0.3  ,  0.3  ,  0.3  , ...,  0.3  ,  0.3  ,  0.3  ]])"
      ]
     },
     "execution_count": 37,
     "metadata": {},
     "output_type": "execute_result"
    }
   ],
   "source": [
    "rg = acoular.RectGrid( x_min=-0.2, x_max=0.2,\n",
    "                       y_min=-0.2, y_max=0.2,\n",
    "                       z=0.3, increment=0.01 )\n",
    "rg.pos"
   ]
  },
  {
   "cell_type": "markdown",
   "metadata": {},
   "source": [
    "### Compute the Source Map\n",
    "- we use the _beamforming_ as our method\n",
    "- combined microhpones are _steered_ to each point of the focus grid\n",
    "- done by `SteeringVector` class\n",
    "\n",
    "The actual method we will use is __beamforming__. Basically this works by using the combined microphones as a sound receiver with a directivity that is _steered_ to each one of the grid points in turn. One important element in beamforming and similar methods is the __steering vector__ implemented in Acoular in the `SteeringVector` class. This vector \"connects\" grid and microphones and takes into account the environmental conditions. These conditions are defined by the speed of sound and a possible background flow. If not set explicitely, a 'standard' environment is created in Acoular which assumes quiescent conditions (no flow) and a speed of sound of 343 m/s (air at 20°C)."
   ]
  },
  {
   "cell_type": "code",
   "execution_count": 55,
   "metadata": {},
   "outputs": [],
   "source": [
    "st = acoular.SteeringVector( grid=rg, mics=mg )"
   ]
  },
  {
   "cell_type": "markdown",
   "metadata": {},
   "source": [
    "`SteeringVector` takes environmental conditions into account.\n",
    "Standard `Environment` is set per default."
   ]
  },
  {
   "cell_type": "code",
   "execution_count": 59,
   "metadata": {},
   "outputs": [],
   "source": [
    "st.env?"
   ]
  },
  {
   "cell_type": "code",
   "execution_count": 61,
   "metadata": {},
   "outputs": [
    {
     "data": {
      "text/plain": [
       "343.0"
      ]
     },
     "execution_count": 61,
     "metadata": {},
     "output_type": "execute_result"
    }
   ],
   "source": [
    "st.env.c"
   ]
  },
  {
   "cell_type": "markdown",
   "metadata": {},
   "source": [
    "Set up a standard (basic) beamformer. For this need two ingredients: the CSM and the steering vector."
   ]
  },
  {
   "cell_type": "code",
   "execution_count": 39,
   "metadata": {},
   "outputs": [],
   "source": [
    "bb = acoular.BeamformerBase( freq_data=ps, steer=st )"
   ]
  },
  {
   "cell_type": "markdown",
   "metadata": {},
   "source": [
    "__lazy evaluation__ => Still no computations!\n",
    "\n",
    "### Compute the Beamforming Map\n",
    "- compute and sum result for all frequencies in a certain range\n",
    "- `num=3` for third-octave\n",
    "- convert to SPL with `L_p`"
   ]
  },
  {
   "cell_type": "code",
   "execution_count": 67,
   "metadata": {},
   "outputs": [
    {
     "data": {
      "text/plain": [
       "(401, 401)"
      ]
     },
     "execution_count": 67,
     "metadata": {},
     "output_type": "execute_result"
    }
   ],
   "source": [
    "f = 8000\n",
    "num = 3\n",
    "\n",
    "pm = bb.synthetic( f, num )\n",
    "Lm = acoular.L_p( pm )\n",
    "Lm.shape"
   ]
  },
  {
   "cell_type": "code",
   "execution_count": 69,
   "metadata": {},
   "outputs": [
    {
     "name": "stdout",
     "output_type": "stream",
     "text": [
      "-350.0 92.31181750689572\n"
     ]
    }
   ],
   "source": [
    "print(Lm.min(), Lm.max())"
   ]
  },
  {
   "cell_type": "markdown",
   "metadata": {},
   "source": [
    "The map has the same dimensions (41 x 41) as the grid. \n",
    "Any zero result in the map will be clipped to -350 dB level instead of -infinity.\n",
    "\n",
    "Finally, lets plot the map!"
   ]
  },
  {
   "cell_type": "code",
   "execution_count": 70,
   "metadata": {},
   "outputs": [
    {
     "data": {
      "image/png": "[encoded data removed]",
      "text/plain": [
       "<Figure size 640x480 with 2 Axes>"
      ]
     },
     "metadata": {},
     "output_type": "display_data"
    }
   ],
   "source": [
    "plt.figure()\n",
    "plt.imshow( Lm.T, origin=\"lower\", vmin=Lm.max()-15, extent=rg.extend() )\n",
    "plt.colorbar();"
   ]
  }
 ],
 "metadata": {
  "kernelspec": {
   "display_name": "Python 3 (ipykernel)",
   "language": "python",
   "name": "python3"
  },
  "language_info": {
   "codemirror_mode": {
    "name": "ipython",
    "version": 3
   },
   "file_extension": ".py",
   "mimetype": "text/x-python",
   "name": "python",
   "nbconvert_exporter": "python",
   "pygments_lexer": "ipython3",
   "version": "3.13.2"
  }
 },
 "nbformat": 4,
 "nbformat_minor": 2
}
