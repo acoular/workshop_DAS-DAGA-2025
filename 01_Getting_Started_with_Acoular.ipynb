{
 "cells": [
  {
   "cell_type": "code",
   "execution_count": null,
   "metadata": {
    "scrolled": true
   },
   "outputs": [],
   "source": [
    "from IPython.core.display import HTML\n",
    "def css_styling():\n",
    "    styles = open(\"./custom.css\", \"r\").read()\n",
    "    return HTML(styles)\n",
    "css_styling()"
   ]
  },
  {
   "cell_type": "markdown",
   "metadata": {},
   "source": [
    "<img src=\"img/DAGA_logo.png\" alt=\"DAGA Logo\" style=\"width:160px; position:absolute; top:20px; right:0px;\">\n",
    "<img src=\"img/TU-lang.png\" alt=\"TU Logo\" style=\"width:230px; position:absolute; top:0px; right:180px;\">\n",
    "\n",
    "<h1 style=\"margin-top: 180px; margin-bottom: 50px; color: #A81D1E;\">Getting Started with Acoular</h1>\n",
    "<h3 style=\"margin-top: 50px; margin-bottom: 100px; color: #434343;\">Art J. R. Pelling, Mikolaj Czuchaj, Gert Herold, Adam Kujawski, Oliver Lylloff, Ennes Sarradj</h2>\n"
   ]
  },
  {
   "cell_type": "markdown",
   "metadata": {},
   "source": [
    "## What we will do\n",
    "\n",
    "- import a microphone array geometry\n",
    "- synthesize a multi-source scenario\n",
    "- apply basic beamforming\n",
    "- plot the results"
   ]
  },
  {
   "cell_type": "code",
   "execution_count": null,
   "metadata": {
    "scrolled": true
   },
   "outputs": [],
   "source": [
    "# First things first\n",
    "import acoular as ac"
   ]
  },
  {
   "cell_type": "markdown",
   "metadata": {},
   "source": [
    "### Load microphone geometry"
   ]
  },
  {
   "cell_type": "code",
   "execution_count": null,
   "metadata": {},
   "outputs": [],
   "source": [
    "ac.MicGeom?"
   ]
  },
  {
   "cell_type": "code",
   "execution_count": null,
   "metadata": {},
   "outputs": [],
   "source": [
    "from pathlib import Path\n",
    "\n",
    "mgpath = Path('mic') / 'array_64.xml'\n",
    "with open(mgpath, 'r') as f:\n",
    "    for _ in range(5):\n",
    "        print(f.readline())"
   ]
  },
  {
   "cell_type": "code",
   "execution_count": null,
   "metadata": {},
   "outputs": [],
   "source": [
    "# check coordinates\n",
    "mg = ac.MicGeom( file = mgpath )\n",
    "mg.pos[:,:3]"
   ]
  },
  {
   "cell_type": "code",
   "execution_count": null,
   "metadata": {},
   "outputs": [],
   "source": [
    "# visualize the microphone array\n",
    "import matplotlib.pylab as plt\n",
    "\n",
    "plt.plot( mg.pos[0], mg.pos[1], 'o' )\n",
    "plt.grid()\n",
    "plt.gca().set_aspect( 'equal', adjustable='box' )\n",
    "plt.xlim((-0.2,0.2))\n",
    "plt.ylim((-0.2,0.2));\n",
    "# seven intertwined spirals"
   ]
  },
  {
   "cell_type": "markdown",
   "metadata": {},
   "source": [
    "### Create a source case\n",
    "- three point sources\n",
    "- uncorrelated white noise"
   ]
  },
  {
   "cell_type": "code",
   "execution_count": null,
   "metadata": {},
   "outputs": [],
   "source": [
    "sfreq = 51200\n",
    "duration = 1\n",
    "num_samples = duration * sfreq\n",
    "\n",
    "n1 = ac.WNoiseGenerator(sample_freq=sfreq, num_samples=num_samples, seed=1)\n",
    "n2 = ac.WNoiseGenerator(sample_freq=sfreq, num_samples=num_samples, seed=2, rms=0.7)\n",
    "n3 = ac.WNoiseGenerator(sample_freq=sfreq, num_samples=num_samples, seed=3, rms=0.5)\n",
    "\n",
    "p1 = ac.PointSource(signal=n1, mics=mg, loc=(-0.1, -0.1, -0.3))\n",
    "p2 = ac.PointSource(signal=n2, mics=mg, loc=(0.15, 0, -0.3))\n",
    "p3 = ac.PointSource(signal=n3, mics=mg, loc=(0, 0.1, -0.3))\n",
    "\n",
    "ts = ac.Mixer(source=p1, sources=[p2, p3])"
   ]
  },
  {
   "cell_type": "code",
   "execution_count": null,
   "metadata": {},
   "outputs": [],
   "source": [
    "isinstance(ts, ac.TimeOut)"
   ]
  },
  {
   "cell_type": "markdown",
   "metadata": {},
   "source": [
    "We can use this object now to answer some questions about the data:\n",
    "* How many channels,\n",
    "* and how many samples do we have? \n",
    "* What is the sampling frequency? "
   ]
  },
  {
   "cell_type": "code",
   "execution_count": null,
   "metadata": {
    "scrolled": true
   },
   "outputs": [],
   "source": [
    "print( ts.num_channels, ts.num_samples, ts.sample_freq )"
   ]
  },
  {
   "cell_type": "markdown",
   "metadata": {},
   "source": [
    "### Frequency Domain Processing\n",
    "- signal processing can take place in the time domain or in the frequency domain\n",
    "- need to transform the time domain data\n",
    "- set blocksize and window"
   ]
  },
  {
   "cell_type": "code",
   "execution_count": null,
   "metadata": {},
   "outputs": [],
   "source": [
    "ps = ac.PowerSpectra( source=ts, block_size=128, window=\"Hanning\" )\n",
    "ps.fftfreq()"
   ]
  },
  {
   "cell_type": "markdown",
   "metadata": {},
   "source": [
    "### Cross Spectral Matrix (CSM)\n",
    "- pairwise cross spectra of all channels\n",
    "- computed using Welch's method\n",
    "- _lazy evaluation_ => no computations so far!\n",
    "\n",
    "    $$\\mathbf{C}(\\omega) = \\frac{1}{N} \\sum_{n=1}^{N} \\mathbf{p}(\\omega) \\mathbf{p}(\\omega)^H \\quad \\text{with} \\quad \\mathbf{C}(\\omega) \\in \\mathbb{C}^{M \\times M}$$\n"
   ]
  },
  {
   "cell_type": "code",
   "execution_count": null,
   "metadata": {
    "scrolled": false
   },
   "outputs": [],
   "source": [
    "ps.csm.shape"
   ]
  },
  {
   "cell_type": "markdown",
   "metadata": {},
   "source": [
    "### Set the Focus Grid"
   ]
  },
  {
   "cell_type": "code",
   "execution_count": null,
   "metadata": {},
   "outputs": [],
   "source": [
    "ac.RectGrid?"
   ]
  },
  {
   "cell_type": "code",
   "execution_count": null,
   "metadata": {},
   "outputs": [],
   "source": [
    "rg = ac.RectGrid( x_min=-0.2, x_max=0.2,\n",
    "                  y_min=-0.2, y_max=0.2,\n",
    "                  z=0.3, \n",
    "                  increment=0.01 )\n",
    "rg.pos"
   ]
  },
  {
   "cell_type": "markdown",
   "metadata": {},
   "source": [
    "### Compute the Source Map\n",
    "- we use _beamforming_ as our method\n",
    "- combined microhpones are _steered_ to each point of the focus grid\n",
    "- done by `SteeringVector` class\n",
    "\n",
    "$$\n",
    "b\\left(\\mathbf{x}_t\\right)=\\mathbf{h}^{\\mathrm{H}}\\left(\\mathbf{x}_t\\right) \\mathbf{C} \\mathbf{h}\\left(\\mathbf{x}_t\\right), \\quad t=1 \\ldots G\n",
    "$$\n",
    "\n",
    "* Steering vector $\\mathbf{h}\\left(\\mathbf{x}_t\\right)$ is defined as\n",
    "\n",
    "$$\n",
    "h_m=\\frac{1}{r_{t, 0} r_{t, m} \\sum_{l=1}^M r_{t, l}^{-2}} \\mathrm{e}^{-j k\\left(r_{t, m}-r_{t, 0}\\right)}\n",
    "$$"
   ]
  },
  {
   "cell_type": "code",
   "execution_count": null,
   "metadata": {},
   "outputs": [],
   "source": [
    "st = ac.SteeringVector( grid=rg, mics=mg )"
   ]
  },
  {
   "cell_type": "markdown",
   "metadata": {},
   "source": [
    "`SteeringVector` takes environmental conditions into account.\n",
    "Standard `Environment` is set per default."
   ]
  },
  {
   "cell_type": "code",
   "execution_count": null,
   "metadata": {},
   "outputs": [],
   "source": [
    "st.env?"
   ]
  },
  {
   "cell_type": "code",
   "execution_count": null,
   "metadata": {},
   "outputs": [],
   "source": [
    "st.env.c"
   ]
  },
  {
   "cell_type": "markdown",
   "metadata": {},
   "source": [
    "Set up a standard (basic) beamformer. For this need two ingredients: the CSM and the steering vector."
   ]
  },
  {
   "cell_type": "code",
   "execution_count": null,
   "metadata": {},
   "outputs": [],
   "source": [
    "bb = ac.BeamformerBase( freq_data=ps, steer=st )"
   ]
  },
  {
   "cell_type": "markdown",
   "metadata": {},
   "source": [
    "__lazy evaluation__ => Still no computations!\n",
    "\n",
    "### Compute the Beamforming Map\n",
    "- compute and sum result for all frequencies in a certain range\n",
    "- `num=3` for third-octave\n",
    "- convert to SPL with `L_p`"
   ]
  },
  {
   "cell_type": "code",
   "execution_count": null,
   "metadata": {},
   "outputs": [],
   "source": [
    "f = 8000\n",
    "num = 3\n",
    "\n",
    "pm = bb.synthetic( f, num )\n",
    "Lm = ac.L_p( pm )\n",
    "Lm.shape"
   ]
  },
  {
   "cell_type": "code",
   "execution_count": null,
   "metadata": {},
   "outputs": [],
   "source": [
    "print(Lm.min(), Lm.max())"
   ]
  },
  {
   "cell_type": "markdown",
   "metadata": {},
   "source": [
    "The map has the same dimensions (41 x 41) as the grid. \n",
    "Any zero result in the map will be clipped to -350 dB level instead of -infinity.\n",
    "\n",
    "Finally, lets plot the map!"
   ]
  },
  {
   "cell_type": "code",
   "execution_count": null,
   "metadata": {},
   "outputs": [],
   "source": [
    "plt.figure()\n",
    "plt.imshow( Lm.T, origin=\"lower\", vmin=Lm.max()-15, extent=rg.extend() )\n",
    "plt.colorbar();"
   ]
  },
  {
   "cell_type": "markdown",
   "metadata": {},
   "source": [
    "## Acoular Future Directions Survey – Don't forget to participate! \n",
    "\n",
    "<img src=\"img/survey.png\" alt=\"Survey\" style=\"height: auto; width: 50%;\">"
   ]
  }
 ],
 "metadata": {
  "kernelspec": {
   "display_name": "Python 3 (ipykernel)",
   "language": "python",
   "name": "python3"
  },
  "language_info": {
   "codemirror_mode": {
    "name": "ipython",
    "version": 3
   },
   "file_extension": ".py",
   "mimetype": "text/x-python",
   "name": "python",
   "nbconvert_exporter": "python",
   "pygments_lexer": "ipython3",
   "version": "3.13.2"
  }
 },
 "nbformat": 4,
 "nbformat_minor": 2
}
