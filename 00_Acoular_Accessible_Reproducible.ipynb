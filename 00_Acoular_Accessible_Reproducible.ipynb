{
 "cells": [
  {
   "cell_type": "code",
   "execution_count": 3,
   "metadata": {
    "scrolled": true
   },
   "outputs": [
    {
     "data": {
      "text/html": [
       "<link href='http://fonts.googleapis.com/css?family=Roboto+Slab' rel='stylesheet' type='text/css'>\n",
       "<link href='http://fonts.googleapis.com/css?family=Roboto+Condensed' rel='stylesheet' type='text/css'>\n",
       "<link href='http://fonts.googleapis.com/css?family=Roboto:100,300,400,500,700,800,900,100italic,300italic,400italic,500italic,700italic,800italic,900italic' rel='stylesheet' type='text/css'>\n",
       "<link href='http://fonts.googleapis.com/css?family=Source+Code+Pro:300,400' rel='stylesheet' type='text/css'>\n",
       "<style>\n",
       "   @font-face {\n",
       "        font-family: \"Computer Modern\";\n",
       "        src: url('http://mirrors.ctan.org/fonts/cm-unicode/fonts/otf/cmunss.otf');\n",
       "    }\n",
       "    /* custom code settings */\n",
       "    .cm-keyword {\n",
       "        color: #A81D1E !important;\n",
       "        font-weight: bold;\n",
       "    }\n",
       "    .cm-string {\n",
       "        color: #A81D1E !important;\n",
       "        font-style: italic;       \n",
       "    }\n",
       "    .cm-comment {\n",
       "        color: #787878 !important;\n",
       "        font-style: italic;       \n",
       "    }\n",
       "    .cm-variable, .cm-number {\n",
       "        color: #0C3762 !important;\n",
       "    }\n",
       "    .cm-def {\n",
       "        color: #0C3762 !important;\n",
       "        font-weight: bold;\n",
       "    }\n",
       "    .cm-builtin, .cm-operator {\n",
       "        color: #A81D1E !important;\n",
       "        font-weight: bold;\n",
       "    }\n",
       "    .rendered_html a {\n",
       "        color: #0C3762 !important; /* Change this to your preferred color */\n",
       "        font-weight: bold;\n",
       "        text-decoration: underline; /* Optional: keeps underline */\n",
       "    }\n",
       "    .rendered_html a:hover {\n",
       "        font-weight: bold;\n",
       "        color: #0C3762 !important; /* Change color when hovering over links */\n",
       "    }  \n",
       "    div.cell{\n",
       "        width:90%;\n",
       "        margin-left:auto;\n",
       "        margin-right:auto;\n",
       "    }\n",
       "    div.cell {\n",
       "        width: 90%;\n",
       "        margin-left: auto;\n",
       "        margin-right: auto;\n",
       "    }\n",
       "\n",
       "    div.cell + div.cell.code_cell {\n",
       "        margin-bottom: 50px; /* add some space between cells */\n",
       "    }\n",
       "    h1 {\n",
       "        font-family: 'Roboto Condensed', sans-serif;\n",
       "        color: #0C3762;\n",
       "    }\n",
       "    h2 {\n",
       "        font-family: 'Roboto', sans-serif;\n",
       "        font-weight: 500 !important;\n",
       "        font-size: 1.5em !important;\n",
       "        color: #0C3762;\n",
       "    }\n",
       "    h3{\n",
       "\t\tfont-family: 'Roboto', sans-serif;\n",
       "        margin-top:12px;\n",
       "        margin-bottom: 3px;\n",
       "        color: #0C3762;\n",
       "       }\n",
       "\th4{\n",
       "\t\tfont-family: 'Roboto', sans-serif;\n",
       "        color: #0C3762;\n",
       "       }\n",
       "    h5 {\n",
       "        font-family: 'Roboto Condensed', sans-serif;\n",
       "        color: #0C3762;\n",
       "    }\t   \n",
       "    div.text_cell_render{\n",
       "        font-family: 'Roboto',Computer Modern, \"Helvetica Neue\", Arial, Helvetica, Geneva, sans-serif;\n",
       "        line-height: 145%;\n",
       "        font-size: 120%;\n",
       "        width:100%;\n",
       "    }\n",
       "    div.CodeMirror{\n",
       "        font-size: 120%;\n",
       "    }\n",
       "    div.cell.selected:before, div.cell.selected.jupyter-soft-selected:before {\n",
       "        background: #0C3762;\n",
       "        width: 20px;\n",
       "    }\n",
       "    /* Add logo next to the bar */\n",
       "    div.cell.selected:after, \n",
       "    div.cell.selected.jupyter-soft-selected:after {\n",
       "        content: '';\n",
       "        position: absolute;\n",
       "        left: 20px; /* Position next to the bar (20px = bar width) */\n",
       "        top: 0;\n",
       "        bottom: 0;\n",
       "        width: 40px; /* Logo container width */\n",
       "        background: url('img/Acoular_logo.png') no-repeat center center / contain;\n",
       "        z-index: 999;\n",
       "    }    \n",
       "    div.input_prompt {\n",
       "        color: #0C3762;\n",
       "    }\n",
       "\n",
       "    div.output_prompt {\n",
       "        color: #A81D1E;\n",
       "    }\n",
       "    div.input_area {\n",
       "        background-color: #f1f1f1 !important; \n",
       "    }    \n",
       "    div.prompt {\n",
       "        min-width: 18ex;\n",
       "    }\n",
       "    .text_cell_render h1, .text_cell_render h2 {\n",
       "        font-weight: 200;\n",
       "        font-size: 50pt;\n",
       "\t\tline-height: 100%;\n",
       "        color:#0C3762;\n",
       "        margin-bottom: 0.5em;\n",
       "        margin-top: 0.5em;\n",
       "        display: block;\n",
       "    }\t\n",
       "    .text_cell_render h5 {\n",
       "        font-weight: 300;\n",
       "        font-size: 16pt;\n",
       "        color: #0C3762;\n",
       "        font-style: italic;\n",
       "        margin-bottom: .5em;\n",
       "        margin-top: 0.5em;\n",
       "        display: block;\n",
       "    }\n",
       "    .warning{\n",
       "        color: rgb( 240, 20, 20 );\n",
       "    }\n",
       "\n",
       "</style>\n",
       "<script>\n",
       "    MathJax.Hub.Config({\n",
       "                TeX: {\n",
       "                    extensions: [\"AMSmath.js\"],\n",
       "                    equationNumbers: { autoNumber: \"AMS\" }\n",
       "                },\n",
       "                tex2jax: {\n",
       "                    inlineMath: [ ['$','$'], [\"\\\\(\",\"\\\\)\"] ],\n",
       "                    displayMath: [ ['$$','$$'], [\"\\\\[\",\"\\\\]\"] ]\n",
       "                },\n",
       "                displayAlign: 'center', // Change this to 'center' to center equations.\n",
       "                \"HTML-CSS\": {\n",
       "                    styles: {'.MathJax_Display': {\"margin\": 4}}\n",
       "                }\n",
       "        });\n",
       "</script>"
      ],
      "text/plain": [
       "<IPython.core.display.HTML object>"
      ]
     },
     "execution_count": 3,
     "metadata": {},
     "output_type": "execute_result"
    }
   ],
   "source": [
    "from IPython.core.display import HTML\n",
    "def css_styling():\n",
    "    styles = open(\"./custom.css\", \"r\").read()\n",
    "    return HTML(styles)\n",
    "css_styling()"
   ]
  },
  {
   "cell_type": "markdown",
   "metadata": {},
   "source": [
    "<img src=\"img/DAGA_logo.png\" alt=\"DAGA Logo\" style=\"width:160px; position:absolute; top:20px; right:0px;\">\n",
    "<img src=\"img/TU-lang.png\" alt=\"TU Logo\" style=\"width:230px; position:absolute; top:0px; right:180px;\">\n",
    "\n",
    "<h1 style=\"margin-top: 180px; margin-bottom: 50px; color: #A81D1E;\">Acoular Workshop: Accessible and Reproducible Microphone Array Signal Processing with Python</h1>\n",
    "<h3 style=\"margin-top: 50px; margin-bottom: 100px; color: #434343;\">Ennes Sarradj, Mikolaj Czuchaj, Gert Herold, Adam Kujawski, Oliver Lylloff, Art J. R. Pelling</h2>\n"
   ]
  },
  {
   "cell_type": "markdown",
   "metadata": {
    "scrolled": false
   },
   "source": [
    "# Introduction\n",
    "## What is Acoular ?\n",
    "* open Python package for the analysis of multichannel signals from arrays of microphones or other sensors\n",
    "## What is this Workshop ?\n",
    "* reach out to users and (prospective) developers\n",
    "* 8 talks / tutorials\n",
    "  * 8.40 introduction\n",
    "  * 9.00 how to get started (beamforming)\n",
    "  * 9.20 generate synthetic multichannel data (drone)\n",
    "  * 9.40 application  to moving sources (train)\n",
    "  * 10.20 advanced methods (fan)\n",
    "  * 10.40 flow environments / benchmarking (wind tunnel)\n",
    "  * 11.00 practical use with MEMS array\n",
    "  * 11.20 edge computing on embedded platform\n",
    "## What else?\n",
    "* take the survey !\n",
    "* break at 10 am: practical demonstration & individual discussions"
   ]
  },
  {
   "cell_type": "markdown",
   "metadata": {},
   "source": [
    "## Before we continue: Acoular demo !\n",
    "* synthesize multichannel data\n",
    "* do beamforming on the data\n",
    "* plot a result and the microphone layout"
   ]
  },
  {
   "cell_type": "code",
   "execution_count": 2,
   "metadata": {
    "scrolled": false
   },
   "outputs": [
    {
     "data": {
      "image/png": "[encoded data removed]",
      "text/plain": [
       "<Figure size 640x480 with 2 Axes>"
      ]
     },
     "metadata": {},
     "output_type": "display_data"
    },
    {
     "data": {
      "image/png": "[encoded data removed]",
      "text/plain": [
       "<Figure size 640x480 with 1 Axes>"
      ]
     },
     "metadata": {},
     "output_type": "display_data"
    }
   ],
   "source": [
    "import acoular as ac\n",
    "ac.demo.acoular_demo.run()"
   ]
  },
  {
   "cell_type": "raw",
   "metadata": {},
   "source": []
  },
  {
   "cell_type": "markdown",
   "metadata": {},
   "source": [
    "# History of Acoular\n",
    "\n",
    "<div style=\"width: 70%; padding-right: 5%; float: left;\">\n",
    "\n",
    "## Selected milestones\n",
    "\n",
    "**2007** start development for array wind tunnel testing with advanced frequency domain algorithms + os-based GUI\n",
    "        \n",
    "**2009** time domain algorithms for moving sources (owl flyover \"testing\")\n",
    "        \n",
    "**2010** 3D  mapping (wind tunnel testing)\n",
    "        \n",
    "**2014** virtual rotation (axial fan)\n",
    "\n",
    "**2015** Acoular goes Open Source (new BSD-style license)\n",
    "\n",
    "**2018** 1st Acoular workshop\n",
    "        \n",
    "**2019** spectAcoular package for browser-based GUI\n",
    "\n",
    "**2021** Acoupipe package (deep learning data provision)\n",
    "\n",
    "**2024** grant from German Research Foundation (DFG)\n",
    "    </div>\n",
    "    <div style=\"width: 30%; text-align: right; float: right;\">\n",
    "        <img src=\"img/pantograph_noise_3d.png\" style=\"object-fit: contain\">\n",
    "        <br>\n",
    "        <img src=\"img/falco.svg\" style=\"clip-path: inset(100px 0 0 0 round 0);\">\n",
    "    </div>\n",
    "\n",
    "---"
   ]
  },
  {
   "cell_type": "raw",
   "metadata": {},
   "source": []
  },
  {
   "cell_type": "markdown",
   "metadata": {},
   "source": [
    "# What can I do with Acoular?\n",
    "\n",
    "## Example use cases\n",
    "\n",
    "<div style=\"width: 70%; padding-right: 5%; float: left; line-height: 200%\">\n",
    "\n",
    "* source localization and characterization (frequency domain)\n",
    "    * beamforming\n",
    "    * deconvolution methods\n",
    "    * inverse methods    \n",
    "* analyze moving sources (time domain, flyover & passby) \n",
    "* rotating sources\n",
    "* accounting for refraction in arbitrary flow (e.g. wind tunnel)\n",
    "* synthesizing multichannel acoustic data\n",
    "* \"off-label\" multichannel signal processing \n",
    "\t * e.g. filter banks, frequency weighting, averaging \n",
    "* measurement hardware control and GUI    \n",
    "</div>\n",
    "    <div style=\"width: 30%; text-align: right; float: right;\">\n",
    "        <img src=\"img/fan.svg\" width=\"100%\">\n",
    "        <img src=\"img/spectacoular.png\" style=\"object-fit: contain\">\n",
    "    </div>\n",
    "</div>\n",
    "\n",
    "---"
   ]
  },
  {
   "cell_type": "raw",
   "metadata": {},
   "source": []
  },
  {
   "cell_type": "markdown",
   "metadata": {},
   "source": [
    "# Is Acoular for me?\n",
    "<div style=\"width: 70%; padding-right: 5%; float: left;\">\n",
    "\n",
    "## Prerequisites\n",
    "* fully object-oriented, functionality  encapsulated into approx. 100 classes\n",
    "* lean user interface\n",
    "* easily accessible:\n",
    "\t* OS: Windows, Linux, MacOS\n",
    "\t* Hardware: Laptop, HPC cluster, edge devices (e.g. Raspberry Pi)\n",
    "\t* multiple Python versions (presently 3.9 - 3.13)\n",
    "    \n",
    "## Documentation\n",
    "* rich documentation with many examples\n",
    "* blog with tutorials\n",
    "* support via discussion forum\n",
    "* active development (github) & open for contributions\n",
    "    </div>\n",
    "    <div style=\"width: 30%; text-align: right; float: right;\">\n",
    "        <img src=\"img/inheritance.png\" style=\"object-fit: contain\">\n",
    "    </div>\n",
    "\n",
    "\n",
    "---"
   ]
  },
  {
   "cell_type": "raw",
   "metadata": {},
   "source": []
  },
  {
   "cell_type": "markdown",
   "metadata": {},
   "source": [
    "# Wait, Python? Isn't it too slow?\n",
    "\n",
    "## Fast array signal processing in Acoular\n",
    "* JIT compiled core-routines (numba)\n",
    "* multi-core processing\n",
    "* lazy evaluation: compute only what is needed\n",
    "* intelligent caching: never compute the same thing twice \n",
    "\n",
    "## Handling huge amounts of data in Acoular\n",
    "* out-of-core processing (a.k.a. streaming)\n",
    "* HDF5 file format\n",
    "\n",
    "---"
   ]
  },
  {
   "cell_type": "raw",
   "metadata": {},
   "source": []
  },
  {
   "cell_type": "markdown",
   "metadata": {},
   "source": [
    "# Quality assurance and reproducibility\n",
    "\n",
    "## Benchmarking - compare with other software\n",
    "* generally difficult (as most comparable packages are not open)\n",
    "* \"AIAA benchmark\" (2018)\n",
    "* see \"flow environments\" 10.40 am\n",
    "\n",
    "## Continuous integration - all changes must pass the tests!\n",
    "* unit tests - does everything work as expected ?\n",
    "* regression tests - are the results reproducible ?\n",
    "* build test, document\n",
    "* covers 86\\% of the code base (approx. 20000 lines)\n",
    "* linting - assure code formatting and readability\n",
    "\n",
    "---"
   ]
  },
  {
   "cell_type": "raw",
   "metadata": {},
   "source": []
  },
  {
   "cell_type": "markdown",
   "metadata": {},
   "source": [
    "# Future plans for Acoular\n",
    "## Extend user base\n",
    "* obstacles, needs?\n",
    "* take the survey!\n",
    "## Encourage users outside acoustic testing\n",
    "* animal bioacoustics\n",
    "* seismic array signal analysis\n",
    "* hydroacoustics\n",
    "* ...\n",
    "## Find more contributors \n",
    "* implement your research into Acoular\n",
    "* we offer internships !\n",
    "## Planned features \n",
    "* deep learning based methods\n",
    "* time-frequency methods\n",
    "* ..."
   ]
  },
  {
   "cell_type": "code",
   "execution_count": null,
   "metadata": {},
   "outputs": [],
   "source": []
  }
 ],
 "metadata": {
  "kernelspec": {
   "display_name": "Python 3 (ipykernel)",
   "language": "python",
   "name": "python3"
  },
  "language_info": {
   "codemirror_mode": {
    "name": "ipython",
    "version": 3
   },
   "file_extension": ".py",
   "mimetype": "text/x-python",
   "name": "python",
   "nbconvert_exporter": "python",
   "pygments_lexer": "ipython3",
   "version": "3.13.2"
  }
 },
 "nbformat": 4,
 "nbformat_minor": 2
}
