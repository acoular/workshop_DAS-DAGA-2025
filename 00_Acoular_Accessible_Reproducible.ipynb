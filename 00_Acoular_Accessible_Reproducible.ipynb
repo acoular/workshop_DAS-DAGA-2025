{
 "cells": [
  {
   "cell_type": "code",
   "execution_count": null,
   "metadata": {
    "scrolled": true
   },
   "outputs": [],
   "source": [
    "from IPython.core.display import HTML\n",
    "def css_styling():\n",
    "    styles = open(\"./custom.css\", \"r\").read()\n",
    "    return HTML(styles)\n",
    "css_styling()"
   ]
  },
  {
   "cell_type": "markdown",
   "metadata": {},
   "source": [
    "<img src=\"img/DAGA_logo.png\" alt=\"DAGA Logo\" style=\"width:160px; position:absolute; top:20px; right:0px;\">\n",
    "<img src=\"img/TU-lang.png\" alt=\"TU Logo\" style=\"width:230px; position:absolute; top:0px; right:180px;\">\n",
    "\n",
    "<h1 style=\"margin-top: 180px; margin-bottom: 50px; color: #A81D1E;\">Acoular Workshop: Accessible and Reproducible Microphone Array Signal Processing with Python</h1>\n",
    "<h3 style=\"margin-top: 50px; margin-bottom: 100px; color: #434343;\">Ennes Sarradj, Mikolaj Czuchaj, Gert Herold, Adam Kujawski, Oliver Lylloff, Art J. R. Pelling</h2>\n"
   ]
  },
  {
   "cell_type": "markdown",
   "metadata": {
    "scrolled": false
   },
   "source": [
    "# Introduction\n",
    "## What is Acoular ?\n",
    "* open Python package for the analysis of multichannel signals from arrays of microphones or other sensors\n",
    "## What is this Workshop ?\n",
    "* reach out to users and (prospective) developers\n",
    "* 8 talks / tutorials\n",
    "  * 8.40 introduction\n",
    "  * 9.00 how to get started (beamforming)\n",
    "  * 9.20 generate synthetic multichannel data (drone)\n",
    "  * 9.40 application  to moving sources (train)\n",
    "  * 10.20 advanced methods (fan)\n",
    "  * 10.40 flow environments / benchmarking (wind tunnel)\n",
    "  * 11.00 practical use with MEMS array\n",
    "  * 11.20 edge computing on embedded platform\n",
    "## What else?\n",
    "* take the survey !\n",
    "* break at 10 am: practical demonstration & individual discussions"
   ]
  },
  {
   "cell_type": "markdown",
   "metadata": {},
   "source": [
    "## Before we continue: Acoular demo !\n",
    "* synthesize multichannel data\n",
    "* do beamforming on the data\n",
    "* plot a re"
   ]
  },
  {
   "cell_type": "code",
   "execution_count": null,
   "metadata": {
    "scrolled": false
   },
   "outputs": [],
   "source": [
    "import acoular as ac\n",
    "ac.demo.acoular_demo.run()"
   ]
  },
  {
   "cell_type": "raw",
   "metadata": {},
   "source": []
  },
  {
   "cell_type": "markdown",
   "metadata": {},
   "source": [
    "# History of Acoular\n",
    "\n",
    "<div style=\"width: 70%; padding-right: 5%; float: left;\">\n",
    "\n",
    "## Selected milestones\n",
    "\n",
    "**2007** start development for array wind tunnel testing with advanced frequency domain algorithms + os-based GUI\n",
    "        \n",
    "**2009** time domain algorithms for moving sources (owl flyover \"testing\")\n",
    "        \n",
    "**2010** 3D  mapping (wind tunnel testing)\n",
    "        \n",
    "**2014** virtual rotation (axial fan)\n",
    "\n",
    "**2015** Acoular goes Open Source (new BSD-style license)\n",
    "\n",
    "**2018** 1st Acoular workshop\n",
    "        \n",
    "**2019** spectAcoular package for browser-based GUI\n",
    "\n",
    "**2021** Acoupipe package (deep learning data provision)\n",
    "\n",
    "**2024** grant from German Research Foundation (DFG)\n",
    "    </div>\n",
    "    <div style=\"width: 30%; text-align: right; float: right;\">\n",
    "        <img src=\"img/pantograph_noise_3d.png\" style=\"object-fit: contain\">\n",
    "        <br>\n",
    "        <img src=\"img/falco.svg\" style=\"clip-path: inset(100px 0 0 0 round 0);\">\n",
    "    </div>\n",
    "\n",
    "---"
   ]
  },
  {
   "cell_type": "raw",
   "metadata": {},
   "source": []
  },
  {
   "cell_type": "markdown",
   "metadata": {},
   "source": [
    "# What can I Acoular use for ?\n",
    "\n",
    "<div style=\"width: 70%; padding-right: 5%; float: left;\">\n",
    "\n",
    "* source localization and characterization (frequency domain)\n",
    "\t* 5 beamforming methods\n",
    "\t* 5 deconvolution methods\n",
    "\t* 3 inverse methods\n",
    "\t* \"getting started\" 9.00 am & \"advanced methods\" 10.20 am\n",
    "* rotating sources\n",
    "\t* fans & other turbomachinery\n",
    "* accounting for refraction in arbitrary flow \n",
    "\t*  wind tunnel application\n",
    "\t* \"flow environments\" 10.40 am\n",
    " * moving sources (time domain)\n",
    "\t * multiple beamforming and deconvolution methods\n",
    "\t * flyover & passby measurements\n",
    "\t * \"application to moving sources\" 9.40 am\n",
    " * synthesizing multichannel acoustic data\n",
    "\t * different kinds of acoustic sources\n",
    "\t * moving sources\n",
    "\t * \"generate synthetic multichannel data\" 9.20 am\n",
    " * \"off-label\" multichannel signal processing \n",
    "\t * (cross) power spectra\n",
    "\t * filter banks, frequency weighting\n",
    "\t * time weighting and averaging \n",
    "\t * example: spectacoular sound level meter app \n",
    " * measurement hardware control and GUI\n",
    "\t * stream data directly from hardware\n",
    "\t * GUI (spectacoular)\n",
    "\t * \"practical use with MEMS array\" 11.00 am\n",
    "</div>\n",
    "    <div style=\"width: 30%; text-align: right; float: right;\">\n",
    "        <img src=\"img/three_source_py3_colormap.png\" style=\"object-fit: contain\">\n",
    "        <img src=\"img/fan.svg\" width=\"100%\">\n",
    "        <img src=\"img/spectacoular.png\" style=\"object-fit: contain\">\n",
    "    </div>\n",
    "</div>\n",
    "\n",
    "---"
   ]
  },
  {
   "cell_type": "raw",
   "metadata": {},
   "source": []
  },
  {
   "cell_type": "markdown",
   "metadata": {},
   "source": [
    "# Is Acoular for me?\n",
    "<div style=\"width: 70%; padding-right: 5%; float: left;\">\n",
    "\n",
    "## Prerequisites\n",
    "* fully object-oriented, functionality  encapsulated into approx. 100 classes\n",
    "* lean user interface\n",
    "* easily accessible:\n",
    "\t* OS: Windows, Linux, MacOS\n",
    "\t* Hardware: Laptop, HPC cluster, edge devices (e.g. Raspberry Pi)\n",
    "\t* multiple Python versions (presently 3.9 - 3.13)\n",
    "    \n",
    "## Documentation\n",
    "* rich documentation with many examples\n",
    "* blog with tutorials\n",
    "* support via discussion forum\n",
    "* active development (github) & open for contributions\n",
    "    </div>\n",
    "    <div style=\"width: 30%; text-align: right; float: right;\">\n",
    "        <img src=\"img/inheritance.png\" style=\"object-fit: contain\">\n",
    "    </div>\n",
    "\n",
    "\n",
    "---"
   ]
  },
  {
   "cell_type": "raw",
   "metadata": {},
   "source": []
  },
  {
   "cell_type": "markdown",
   "metadata": {},
   "source": [
    "# Wait, Python? Isn't it too slow?\n",
    "\n",
    "## Fast array signal processing in Acoular\n",
    "* JIT compiled core-routines (numba)\n",
    "* multi-core processing\n",
    "* lazy evaluation: compute only what is needed\n",
    "* intelligent caching: never compute the same thing twice \n",
    "\n",
    "## Handling huge amounts of data in Acoular\n",
    "* out-of-core processing (a.k.a. streaming)\n",
    "* HDF5 file format\n",
    "\n",
    "---"
   ]
  },
  {
   "cell_type": "raw",
   "metadata": {},
   "source": []
  },
  {
   "cell_type": "markdown",
   "metadata": {},
   "source": [
    "# Quality assurance and reproducibility\n",
    "\n",
    "## Benchmarking - compare with other software\n",
    "* generally difficult (as most comparable packages are not open)\n",
    "* \"AIAA benchmark\" (2018)\n",
    "* see \"flow environments\" 10.40 am\n",
    "\n",
    "## Continuous integration - all changes must pass the tests!\n",
    "* unit tests - does everything work as expected ?\n",
    "* regression tests - are the results reproducible ?\n",
    "* build test, document\n",
    "* covers 86\\% of the code base (approx. 20000 lines)\n",
    "* linting - assure code formatting and readability\n",
    "\n",
    "---"
   ]
  },
  {
   "cell_type": "raw",
   "metadata": {},
   "source": []
  },
  {
   "cell_type": "markdown",
   "metadata": {},
   "source": [
    "# Future plans for Acoular\n",
    "## Extent user base\n",
    "* obstacles, needs?\n",
    "* take the survey!\n",
    "## Encourage users outside acoustic testing\n",
    "* animal bioacoustics\n",
    "* seismic array signal analysis\n",
    "* hydroacoustics\n",
    "* ...\n",
    "## Find more contributors \n",
    "* implement your research into Acoular\n",
    "* we offer internships !\n",
    "## Planned features \n",
    "* deep learning based methods\n",
    "* time-frequency methods\n",
    "* ..."
   ]
  }
 ],
 "metadata": {
  "kernelspec": {
   "display_name": "Python 3 (ipykernel)",
   "language": "python",
   "name": "python3"
  },
  "language_info": {
   "codemirror_mode": {
    "name": "ipython",
    "version": 3
   },
   "file_extension": ".py",
   "mimetype": "text/x-python",
   "name": "python",
   "nbconvert_exporter": "python",
   "pygments_lexer": "ipython3",
   "version": "3.13.2"
  }
 },
 "nbformat": 4,
 "nbformat_minor": 2
}
