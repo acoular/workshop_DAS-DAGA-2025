{
 "cells": [
  {
   "cell_type": "code",
   "execution_count": null,
   "metadata": {
    "scrolled": true
   },
   "outputs": [],
   "source": [
    "from IPython.core.display import HTML\n",
    "def css_styling():\n",
    "    styles = open(\"./custom.css\", \"r\").read()\n",
    "    return HTML(styles)\n",
    "css_styling()"
   ]
  },
  {
   "cell_type": "code",
   "execution_count": null,
   "metadata": {},
   "outputs": [],
   "source": [
    "# For better readability later on, we do some imports and definitions here\n",
    "import acoular as ac\n",
    "from pathlib import Path\n",
    "\n",
    "from traits.api import List, Int, Property\n",
    "\n",
    "import numpy as np\n",
    "import matplotlib.pyplot as plt\n",
    "from IPython.display import Audio\n",
    "\n",
    "Path('./cache/02').mkdir(parents=True, exist_ok=True)\n",
    "ac.config.cache_dir = './cache/02'\n",
    "\n",
    "# initialize a random generator for path deviations\n",
    "rng = np.random.default_rng(seed = 23)\n",
    "\n",
    "def play_signal(signal, fs = 44100):\n",
    "    # Play a signal sound\n",
    "    display(Audio(signal, rate = fs))\n",
    "    \n",
    "\n",
    "def show_signal(signal, play_sound = True, fs = 44100):\n",
    "    # Display and play a signal sound\n",
    "    plt.figure(1,(10,3))\n",
    "    plt.psd(signal, \n",
    "            Fs = fs,\n",
    "            NFFT = 4096)\n",
    "    plt.show()\n",
    "\n",
    "    if play_sound:\n",
    "        play_signal(signal, fs=fs)\n",
    "    \n",
    "def plot_setup(traj, mics = False):\n",
    "    plt.figure(2,(10,3))\n",
    "    \n",
    "    if mics:\n",
    "        # plot observer\n",
    "        plt.plot(mics.pos[0,:], mics.pos[1,:], 'rx', label = 'observer')\n",
    "\n",
    "    # plot trajectory\n",
    "    tmax = max(list(traj.points.keys()))\n",
    "    times = np.linspace(0, tmax, 100)\n",
    "    xt, yt, zt = traj.location(times)\n",
    "    plt.plot(xt, yt, label = 'trajectory')\n",
    "\n",
    "    # plot the predefined waypoints\n",
    "    xwp, ywp, zwp = zip(*traj.points.values())\n",
    "    plt.plot(xwp, ywp, '>', label = 'traj. waypoints')\n",
    "    for time in traj.points.keys():\n",
    "        xwp, ywp, zwp = traj.points[time]\n",
    "        plt.text(xwp+0.5, ywp-3, f'{time:.0f} s', fontsize=7)\n",
    "\n",
    "    plt.xlabel('$x$ / m')\n",
    "    plt.ylabel('$y$ / m')\n",
    "    plt.legend()\n",
    "    plt.axis('equal')\n",
    "    plt.show()\n",
    "\n",
    "    \n",
    "def show_result(data, caching=True):\n",
    "    #if caching:\n",
    "    #    cached_data = ac.Cache(source=data)\n",
    "    #else:\n",
    "    cached_data = data\n",
    "    signal = ac.tools.return_result(cached_data)\n",
    "    plt.figure(3,(10,5))\n",
    "    plt.specgram(signal[:,0], \n",
    "                 Fs = f_sample,\n",
    "                 noverlap = 4096-256,\n",
    "                 NFFT = 4096,\n",
    "                 vmin=-100,\n",
    "                 vmax=-50)\n",
    "    plt.ylim(0,5000)\n",
    "    plt.colorbar()\n",
    "    plt.xlabel('$t$ / s')\n",
    "    plt.ylabel('$f$ / Hz')\n",
    "    plt.show()\n",
    "    \n",
    "    # Play the sound\n",
    "    display(Audio(signal.T, rate = f_sample))\n",
    "\n",
    "\n",
    "\n",
    "class DroneSignalGenerator( ac.NoiseGenerator ):\n",
    "    \"\"\"\n",
    "    Class for generating a synthetic multicopter drone signal. \n",
    "    This is just a basic example class for demonstration purposes \n",
    "    with only few settable and some arbitrary fixed parameters.\n",
    "    It is not intended to create perfectly realistic signals.\n",
    "    \"\"\"\n",
    "\n",
    "    # List with rotor speeds (for each rotor independently)\n",
    "    # Default: 1 rotor, 15000 rpm\n",
    "    rpm_list = List([15000,])\n",
    "\n",
    "    # Number of blades per rotor\n",
    "    # Default: 2\n",
    "    num_blades_per_rotor = Int(2)\n",
    "    \n",
    "    # internal identifier\n",
    "    digest = Property(depends_on=['rpm_list', 'num_blades_per_rotor', \n",
    "                                  'rms', 'seed',\n",
    "                                  'sample_freq', 'num_samples'])\n",
    "\n",
    "    def _get_digest(self):\n",
    "        return ac.internal.digest(self)\n",
    "\n",
    "    def signal( self ):\n",
    "        \"\"\"\n",
    "        function that returns the full signal\n",
    "        \"\"\"\n",
    "        # initialize a random generator for noise generation\n",
    "        rng = np.random.default_rng(seed = self.seed)\n",
    "        # use 1/f² broadband noise as basis for the signal\n",
    "        wn = rng.standard_normal(self.num_samples) # normal distributed values\n",
    "        wnf = np.fft.rfft(wn) # transform to freq domain\n",
    "        wnf /= (np.linspace(0.1,1,len(wnf))*5)**2 # spectrum ~ 1/f²\n",
    "        sig = np.fft.irfft(wnf) # transform to time domain\n",
    "\n",
    "        # vector with all time instances\n",
    "        t = np.arange(self.num_samples, dtype=float) / self.sample_freq\n",
    "\n",
    "        # iterate over all rotors\n",
    "        for rpm in self.rpm_list:\n",
    "            f_base = rpm / 60 # rotor speed in Hz\n",
    "\n",
    "            # randomly set phase of rotor\n",
    "            phase = rng.uniform() * 2*np.pi\n",
    "            \n",
    "            # calculate higher harmonics up to 50 times the rotor speed\n",
    "            for n in np.arange(50)+1:\n",
    "                # if we're looking at a blade passing frequency, make it louder\n",
    "                if n % self.num_blades_per_rotor == 0:\n",
    "                    amp = 1\n",
    "                else:\n",
    "                    amp = 0.2\n",
    "\n",
    "                # exponentially decrease amplitude for higher freqs with arbitrary factor\n",
    "                amp *= np.exp(-n/10)\n",
    "                \n",
    "                # add harmonic signal component to existing signal\n",
    "                sig += amp * np.sin(2*np.pi*n * f_base * t + phase) \n",
    "\n",
    "        # return signal normalized to given RMS value\n",
    "        return sig * self.rms / np.std(sig)"
   ]
  },
  {
   "cell_type": "markdown",
   "metadata": {},
   "source": [
    "<img src=\"img/DAGA_logo.png\" alt=\"DAGA Logo\" style=\"width:160px; position:absolute; top:20px; right:20px;\">\n",
    "<img src=\"img/TU-lang.png\" alt=\"TU Logo\" style=\"width:230px; position:absolute; top:0px; right:180px;\">\n",
    "\n",
    "<h1 style=\"margin-top: 130px; margin-bottom: 50px; color: #A81D1E;\">Acoular Workshop: Generating Synthetic Sound Pressure Time Datasets of Multicopter Drone Fly-bys</h1>\n",
    "<h3 style=\"margin-top: 50px; margin-bottom: 70px; color: #434343;\">Gert Herold, Mikolaj Czuchaj, Adam Kujawski, Oliver Lylloff, Art J. R. Pelling, Ennes Sarradj</h2>\n"
   ]
  },
  {
   "cell_type": "markdown",
   "metadata": {},
   "source": [
    "<div style=\"width: 20px; font-size: 10px; float: right; text-align:right\" > \n",
    "    2\n",
    "</div>\n",
    "\n",
    "## Looking at a real signal – Measurement of a quadcopter fly-by (setup)\n",
    "\n",
    "![meas_setup](img/sketch_flyby.png)"
   ]
  },
  {
   "cell_type": "markdown",
   "metadata": {
    "scrolled": false
   },
   "source": [
    "<div style=\"width: 20px; font-size: 10px; float: right; text-align:right\" > \n",
    "    3\n",
    "</div>\n",
    "\n",
    "## Looking at a real signal – Measurement of a quadcopter fly-by (result)\n",
    "\n",
    "![measured_spectrogram](img/spectro_23-04-04_13-12-03_874736_8192_15sg.png)\n",
    "<audio src=\"wav/measurement_drone.wav\" controls>Browser does not support audio format.</audio>\n",
    "\n",
    "Important characteristics:\n",
    "  - tonal components (e.g. rotor bpf + higher harmonics)\n",
    "  - Doppler effect\n",
    "  - broadband components\n",
    "  - interference patterns due to ground reflections"
   ]
  },
  {
   "cell_type": "markdown",
   "metadata": {},
   "source": [
    "<div style=\"width: 20px; font-size: 10px; float: right; text-align:right\" > \n",
    "    4\n",
    "</div>\n",
    "\n",
    "## Simulation – Drone as a moving dipole\n",
    "    \n",
    "What we need:\n",
    "- Signal characteristics\n",
    "- Flight path\n",
    "- Observer properties\n",
    "- Medium properties\n",
    "- Ground reflections"
   ]
  },
  {
   "cell_type": "code",
   "execution_count": null,
   "metadata": {},
   "outputs": [],
   "source": [
    "# The source itself\n",
    "flying_drone = ac.MovingPointSourceDipole(conv_amp = True)\n",
    "flying_drone"
   ]
  },
  {
   "cell_type": "markdown",
   "metadata": {},
   "source": [
    "<div style=\"width: 20px; font-size: 10px; float: right; text-align:right\" > \n",
    "    5\n",
    "</div>\n",
    "\n",
    "## Signal characteristics\n",
    "\n",
    "- simple sine signal (for now)"
   ]
  },
  {
   "cell_type": "code",
   "execution_count": null,
   "metadata": {},
   "outputs": [],
   "source": [
    "# Set up a simple tonal signal\n",
    "f_sample = 44100 # Hz, sampling frequency\n",
    "t_meas = 10.5 # s, length of signal\n",
    "sine_signal = ac.SineGenerator(freq = 700,\n",
    "                               sample_freq = f_sample,\n",
    "                               num_samples = f_sample * t_meas)\n",
    "\n",
    "# Add the signal to the the source\n",
    "flying_drone.signal = sine_signal\n",
    "\n",
    "play_signal(sine_signal.signal())"
   ]
  },
  {
   "cell_type": "markdown",
   "metadata": {},
   "source": [
    "<div style=\"width: 20px; font-size: 10px; float: right; text-align:right\" > \n",
    "    6\n",
    "</div>\n",
    "\n",
    "## Flight path\n",
    "\n",
    " - simple straight line (for now) "
   ]
  },
  {
   "cell_type": "code",
   "execution_count": null,
   "metadata": {},
   "outputs": [],
   "source": [
    "# Define an Acoular Trajectory object\n",
    "flight_path = ac.Trajectory()\n",
    "\n",
    "# Simple case: two points at two time instants\n",
    "flight_path.points = {\n",
    "    0  : (-90, 6, 10), # at 0 seconds be at (x,y,z) = (-90, 6, 10) meter\n",
    "    10 : ( 90, 6, 10)  # after 11 seconds, x has changed by 180 m (=> fly-by)\n",
    "}\n",
    "\n",
    "\n",
    "# Add the flight path\n",
    "flying_drone.trajectory = flight_path\n",
    "\n",
    "plot_setup(flight_path)"
   ]
  },
  {
   "cell_type": "markdown",
   "metadata": {},
   "source": [
    "<div style=\"width: 20px; font-size: 10px; float: right; text-align:right\" > \n",
    "    7\n",
    "</div>\n",
    "\n",
    "## Observer & medium properties\n",
    "\n",
    " - \"array\" with two microphones\n",
    " - air at standard conditions "
   ]
  },
  {
   "cell_type": "code",
   "execution_count": null,
   "metadata": {},
   "outputs": [],
   "source": [
    "# Define the array geometry\n",
    "two_mics = ac.MicGeom()\n",
    "two_mics.pos_total = np.array([[-0.07, 0.07], # x positions, all values in m\n",
    "                               [-0.03, 0.03], # y\n",
    "                               [ 1.7 , 1.7]]) # z\n",
    "    \n",
    "# Medium properties\n",
    "air = ac.Environment(c = 343.)\n",
    "\n",
    "# Add the flight path and the medium properties\n",
    "flying_drone.mics = two_mics\n",
    "flying_drone.env = air\n",
    "\n",
    "# starts observation 0.3 seconds after signal starts at drone                           \n",
    "flying_drone.start = 0.3 # s\n",
    "\n",
    "plot_setup(flight_path, two_mics)"
   ]
  },
  {
   "cell_type": "markdown",
   "metadata": {},
   "source": [
    "<div style=\"width: 20px; font-size: 10px; float: right; text-align:right\" > \n",
    "    8\n",
    "</div>\n",
    "\n",
    "## Export & show results\n"
   ]
  },
  {
   "cell_type": "code",
   "execution_count": null,
   "metadata": {},
   "outputs": [],
   "source": [
    "# Write data stream onto disk for later re-use. \n",
    "# This step is not necessary if only needed once or runtime isn't an issue.\n",
    "flying_drone_cached = ac.Cache(source = flying_drone)\n",
    "\n",
    "# Prepare wav output.\n",
    "# If you don't need caching, you can directly put \"source = flying_drone\" here.\n",
    "output = ac.WriteWAV(file = 'flying_sine.wav',\n",
    "                     source = flying_drone_cached, \n",
    "                     channels = [0,1]) # export both channels as stereo\n",
    "# Start the actual export\n",
    "output.save()\n",
    "\n",
    "# Plot the signal\n",
    "show_result(flying_drone_cached)"
   ]
  },
  {
   "cell_type": "markdown",
   "metadata": {},
   "source": [
    "<div style=\"width: 20px; font-size: 10px; float: right; text-align:right\" > \n",
    "    9\n",
    "</div>\n",
    "\n",
    "## Change some properties\n",
    "\n",
    "![flowchart](img/sim_flowchart.png)\n"
   ]
  },
  {
   "cell_type": "code",
   "execution_count": null,
   "metadata": {},
   "outputs": [],
   "source": [
    "# change the signal to white noise\n",
    "\n",
    "noise_signal = ac.WNoiseGenerator(sample_freq = f_sample,\n",
    "                                  num_samples = f_sample * t_meas)\n",
    "\n",
    "# Add the signal to the the source\n",
    "flying_drone.signal = noise_signal\n",
    "\n",
    "# Export wave file\n",
    "output.file = \"flying_wnoise.wav\"\n",
    "output.save()\n",
    "\n",
    "show_result(flying_drone_cached)"
   ]
  },
  {
   "cell_type": "markdown",
   "metadata": {},
   "source": [
    "<div style=\"width: 20px; font-size: 10px; float: right; text-align:right\" > \n",
    "    10\n",
    "</div>\n",
    "\n",
    "### Change the signal to something drone-like"
   ]
  },
  {
   "cell_type": "code",
   "execution_count": null,
   "metadata": {},
   "outputs": [],
   "source": [
    "drone_signal = DroneSignalGenerator(rpm_list = [15010, 14962, 13536, 13007], \n",
    "                                    num_blades_per_rotor = 2, \n",
    "                                    sample_freq = f_sample, \n",
    "                                    num_samples = f_sample * t_meas)\n",
    "\n",
    "flying_drone.signal = drone_signal\n",
    "\n",
    "show_signal(drone_signal.signal())"
   ]
  },
  {
   "cell_type": "markdown",
   "metadata": {},
   "source": [
    "<div style=\"width: 20px; font-size: 10px; float: right; text-align:right\" > \n",
    "    11\n",
    "</div>\n",
    "\n",
    "### Make the trajectory deviate from a straight path"
   ]
  },
  {
   "cell_type": "code",
   "execution_count": null,
   "metadata": {},
   "outputs": [],
   "source": [
    "waypoints = { \n",
    "    t : ((t-5.5) * 16,        # vary x according to approx. flight speed 16 m/s\n",
    "         6 + rng.uniform(-0.4,0.4), # randomly vary y position up to ±0.4 m around 6 m \n",
    "         10 + rng.uniform(-0.5,0.5)) # randomly vary z position up to ±0.5 m around 10 m height\n",
    "    for t in np.arange(12) } # 11 seconds trajectory, one waypoint each second\n",
    "\n",
    "flight_path.points = waypoints\n",
    "\n",
    "# Export wave file\n",
    "output.file = \"flying_drone.wav\"\n",
    "output.save()\n",
    "\n",
    "plot_setup(flight_path, two_mics)\n",
    "show_result(flying_drone_cached)"
   ]
  },
  {
   "cell_type": "markdown",
   "metadata": {},
   "source": [
    "<div style=\"width: 20px; font-size: 10px; float: right; text-align:right\" > \n",
    "    12\n",
    "</div>\n",
    "\n",
    "## Ground reflections\n",
    "\n",
    "- simple way: add a mirror source"
   ]
  },
  {
   "cell_type": "code",
   "execution_count": null,
   "metadata": {
    "scrolled": true
   },
   "outputs": [],
   "source": [
    "waypoints_reflection = { \n",
    "    time : (x, y, -z) for time, (x, y, z) in waypoints.items() \n",
    "}\n",
    "flight_path_mirror = ac.Trajectory(points = waypoints_reflection)\n",
    "\n",
    "\n",
    "# Define a mirror source with the mirrored trajectory\n",
    "mirror_drone = ac.MovingPointSourceDipole(signal = drone_signal,        \n",
    "                                          trajectory = flight_path_mirror,\n",
    "                                          conv_amp = True,\n",
    "                                          mics = two_mics,\n",
    "                                          start = 0.3,\n",
    "                                          env = air) \n",
    "\n",
    "# Mix the original source and the mirror source\n",
    "drone_above_ground = ac.SourceMixer( sources = [flying_drone,\n",
    "                                                mirror_drone] )\n",
    "\n",
    "flying_drone_cached.source = drone_above_ground\n",
    "\n",
    "# Export wave file\n",
    "output.file = \"flying_drone_above_ground.wav\"\n",
    "output.save()\n",
    "\n",
    "show_result(flying_drone_cached)"
   ]
  },
  {
   "cell_type": "markdown",
   "metadata": {},
   "source": [
    "<div style=\"width: 20px; font-size: 10px; float: right; text-align:right\" > \n",
    "    13\n",
    "</div>\n",
    "\n",
    "## Summary\n",
    "\n",
    "![flowchart_mixer](img/sim_flowchart2.png)\n",
    "\n",
    " - Acoular for simulating an acoustic scenario\n",
    " - Moving source with custom signal and dipole characteristic\n",
    " - Ground reflections\n",
    " - Simple case with point source and two omnidirectional mics as \"ears\"\n",
    " \n",
    "#### Possible enhancements\n",
    "\n",
    " - Consider dynamic signal characteristics\n",
    " - Distributed source rather than point source\n",
    " - Frequency-dependent (arbitrary) directivity\n",
    " - Atmospheric damping\n",
    " - Ground absorption & more\n",
    " - Better binaural rendering"
   ]
  }
 ],
 "metadata": {
  "kernelspec": {
   "display_name": "Python 3 (ipykernel)",
   "language": "python",
   "name": "python3"
  },
  "language_info": {
   "codemirror_mode": {
    "name": "ipython",
    "version": 3
   },
   "file_extension": ".py",
   "mimetype": "text/x-python",
   "name": "python",
   "nbconvert_exporter": "python",
   "pygments_lexer": "ipython3",
   "version": "3.13.2"
  }
 },
 "nbformat": 4,
 "nbformat_minor": 4
}
